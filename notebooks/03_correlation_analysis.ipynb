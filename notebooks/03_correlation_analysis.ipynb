{
 "cells": [
  {
   "cell_type": "code",
   "execution_count": 2,
   "id": "d608c8aa-852f-4829-93e9-de424ecff692",
   "metadata": {},
   "outputs": [
    {
     "name": "stdout",
     "output_type": "stream",
     "text": [
      "WORLD HAPPINESS REPORT - CORRELATION ANALYSIS\n",
      "\n",
      "Loading cleaned dataset...\n",
      "Cleaned dataset loaded: 1,502 rows × 17 columns\n",
      "\n",
      "Dataset Overview:\n",
      "Countries: 175\n",
      "Years: 2015-2024\n",
      "Regions: 10\n"
     ]
    }
   ],
   "source": [
    "# CELL 1: SETUP AND IMPORTS\n",
    "# Importing required libraries and loading the cleaned dataset\n",
    "\n",
    "import pandas as pd\n",
    "import numpy as np\n",
    "import matplotlib.pyplot as plt\n",
    "import seaborn as sns\n",
    "from scipy import stats\n",
    "from scipy.stats import pearsonr, spearmanr\n",
    "import warnings\n",
    "warnings.filterwarnings('ignore')\n",
    "\n",
    "# Set up plotting style\n",
    "plt.style.use('default')\n",
    "sns.set_palette(\"husl\")\n",
    "plt.rcParams['figure.figsize'] = (12, 8)\n",
    "\n",
    "print(\"WORLD HAPPINESS REPORT - CORRELATION ANALYSIS\")\n",
    "\n",
    "# Loading the cleaned dataset\n",
    "print(\"\\nLoading cleaned dataset...\")\n",
    "df = pd.read_csv('../data/processed/happiness_cleaned.csv')\n",
    "print(f\"Cleaned dataset loaded: {df.shape[0]:,} rows × {df.shape[1]} columns\")\n",
    "\n",
    "# Display basic info\n",
    "print(f\"\\nDataset Overview:\")\n",
    "print(f\"Countries: {df['Country'].nunique()}\")\n",
    "print(f\"Years: {df['Year'].min()}-{df['Year'].max()}\")\n",
    "print(f\"Regions: {df['Regional indicator'].nunique()}\")"
   ]
  },
  {
   "cell_type": "code",
   "execution_count": null,
   "id": "3a6fe711-696a-4395-9c4e-a638df9e9a92",
   "metadata": {},
   "outputs": [],
   "source": []
  }
 ],
 "metadata": {
  "kernelspec": {
   "display_name": "Python 3 (ipykernel)",
   "language": "python",
   "name": "python3"
  },
  "language_info": {
   "codemirror_mode": {
    "name": "ipython",
    "version": 3
   },
   "file_extension": ".py",
   "mimetype": "text/x-python",
   "name": "python",
   "nbconvert_exporter": "python",
   "pygments_lexer": "ipython3",
   "version": "3.13.7"
  }
 },
 "nbformat": 4,
 "nbformat_minor": 5
}
